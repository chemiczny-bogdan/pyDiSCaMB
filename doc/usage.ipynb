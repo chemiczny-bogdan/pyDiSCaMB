{
 "cells": [
  {
   "cell_type": "code",
   "execution_count": 1,
   "metadata": {},
   "outputs": [],
   "source": [
    "import pydiscamb"
   ]
  },
  {
   "cell_type": "markdown",
   "metadata": {},
   "source": [
    "# Load structure\n",
    "\n",
    "Structures can be loaded using cctbx, from pdb-files or cif-files. Here, only pdb is shown, but loading cif is similar.\n",
    "Additionally, Fobs can be read from a mtz-file, or from a cif. Only mtz is shown."
   ]
  },
  {
   "cell_type": "code",
   "execution_count": 2,
   "metadata": {},
   "outputs": [],
   "source": [
    "import iotbx.pdb\n",
    "import mmtbx.model\n",
    "from iotbx import reflection_file_reader\n",
    "\n",
    "pdb_filename = \"4znn.pdb\"\n",
    "pdb_inp = iotbx.pdb.input(file_name=pdb_filename)\n",
    "model = mmtbx.model.manager(model_input=pdb_inp)\n",
    "xrs = model.get_xray_structure()\n",
    "\n",
    "# Scattering table is read from the structure\n",
    "xrs.scattering_type_registry(table=\"electron\")\n",
    "\n",
    "# Load Fobs\n",
    "mtz_filename = \"4znn.mtz\"\n",
    "miller_arrays = reflection_file_reader.any_reflection_file(\n",
    "    file_name=mtz_filename\n",
    ").as_miller_arrays()\n",
    "for ma in miller_arrays:\n",
    "    if ma.info().label_string() == \"FP,SIGFP\":\n",
    "        f_obs = ma"
   ]
  },
  {
   "cell_type": "markdown",
   "metadata": {},
   "source": [
    "# Structure factor calculations"
   ]
  },
  {
   "cell_type": "code",
   "execution_count": 3,
   "metadata": {},
   "outputs": [
    {
     "name": "stderr",
     "output_type": "stream",
     "text": [
      "Atomic form factors for electron scattering calculated with\n",
      "The Hansen - Coppens model parameterized with MATTS databank.\n",
      "\n"
     ]
    }
   ],
   "source": [
    "## The simplest usage: calculate structure factors in one call\n",
    "fcalc = pydiscamb.calculate_structure_factors_IAM(xrs, d_min=2)\n",
    "\n",
    "# TAAM is also available in this way:\n",
    "fcalc = pydiscamb.calculate_structure_factors_TAAM(xrs, d_min=2)"
   ]
  },
  {
   "cell_type": "markdown",
   "metadata": {},
   "source": [
    "`fcalc` is a `list` of `complex`, and does not retain information about the corresponding hkls.\n",
    "These can be re-constructed with cctbx:"
   ]
  },
  {
   "cell_type": "code",
   "execution_count": 4,
   "metadata": {},
   "outputs": [
    {
     "data": {
      "text/plain": [
       "<cctbx_array_family_flex_ext.miller_index at 0x7f1158388640>"
      ]
     },
     "execution_count": 4,
     "metadata": {},
     "output_type": "execute_result"
    }
   ],
   "source": [
    "xrs.structure_factors(d_min=2).miller_set().indices()"
   ]
  },
  {
   "cell_type": "markdown",
   "metadata": {},
   "source": [
    "This is convoluted. For more control, use `DiscambWrapper`:"
   ]
  },
  {
   "cell_type": "code",
   "execution_count": 5,
   "metadata": {},
   "outputs": [],
   "source": [
    "wrapper = pydiscamb.DiscambWrapper(xrs)\n",
    "\n",
    "# Either set d_min:\n",
    "wrapper.set_d_min(2.0)\n",
    "fcalc = wrapper.f_calc()\n",
    "\n",
    "# Or set indices manually\n",
    "wrapper.set_indices([(0, 1, 0), (2, 3, 1)])\n",
    "fcalc = wrapper.f_calc()\n",
    "\n",
    "# Also works with miller.indices()\n",
    "wrapper.set_indices(f_obs.indices())\n",
    "fcalc = wrapper.f_calc()\n"
   ]
  },
  {
   "cell_type": "markdown",
   "metadata": {},
   "source": [
    "# TAAM\n",
    "DiSCaMB's TAAM functionality is available:"
   ]
  },
  {
   "cell_type": "code",
   "execution_count": 6,
   "metadata": {},
   "outputs": [
    {
     "name": "stderr",
     "output_type": "stream",
     "text": [
      "Atomic form factors for electron scattering calculated with\n",
      "The Hansen - Coppens model parameterized with MATTS databank.\n",
      "\n"
     ]
    }
   ],
   "source": [
    "taam_wrapper = pydiscamb.DiscambWrapper(xrs, method=pydiscamb.FCalcMethod.TAAM)\n",
    "fcalc = taam_wrapper.f_calc(2.0) # Can also set d_min like this, in the same call"
   ]
  },
  {
   "cell_type": "markdown",
   "metadata": {},
   "source": [
    "More control for e.g. logging can be achieved with `DiscambWrapper.from_TAAM_parameters`:"
   ]
  },
  {
   "cell_type": "code",
   "execution_count": 7,
   "metadata": {},
   "outputs": [
    {
     "name": "stdout",
     "output_type": "stream",
     "text": [
      "Help on built-in function from_TAAM_parameters in module pydiscamb._wrapper:\n",
      "\n",
      "from_TAAM_parameters(...) method of builtins.PyCapsule instance\n",
      "    from_TAAM_parameters(structure: object, convert_to_electron_scattering: bool, bank_filepath: str, assignment_log_filepath: str, parameter_log_filepath: str, multipolar_cif_output_filepath: str, unit_cell_charge: float, perform_parameter_scaling_from_unit_cell_charge: bool) -> pydiscamb._wrapper.DiscambWrapper\n",
      "    \n",
      "    \n",
      "    Initialize a wrapper object with specified TAAM parameters. \n",
      "    \n",
      "    Parameters\n",
      "    ----------\n",
      "    structure\n",
      "        xray-structure to use\n",
      "    convert_to_electron_scattering\n",
      "        Whether to convert bank entries to electron using Mott-Bethe\n",
      "    bank_filepath\n",
      "        Path to databank of multipolar parameteres, e.g MATTS.\n",
      "    assignment_log_filepath\n",
      "        Path to output log file for atom assignment\n",
      "    parameter_log_filepath\n",
      "        Path to output log file for scattering parameters\n",
      "    multipolar_cif_output_filepath\n",
      "        Path to output cif file with multipolar parameters\n",
      "    unit_cell_charge\n",
      "        Total charge of the unit cell\n",
      "    perform_parameter_scaling_from_unit_cell_charge\n",
      "        Whether to scale parameters according to unit cell charge\n",
      "    \n",
      "    Notes\n",
      "    -----\n",
      "    The default databank used when initializing a DiscambWrapper can be accessed with\n",
      "    ```python\n",
      "    pydiscamb.taam_parameters.get_default_databank()\n",
      "    ```\n",
      "\n"
     ]
    },
    {
     "name": "stderr",
     "output_type": "stream",
     "text": [
      "Atomic form factors for X-ray scattering calculated with\n",
      "The Hansen - Coppens model parameterized with MATTS databank.\n",
      "\n"
     ]
    }
   ],
   "source": [
    "wrapper = pydiscamb.DiscambWrapper.from_TAAM_parameters(\n",
    "    structure=xrs,\n",
    "    convert_to_electron_scattering=False,\n",
    "    bank_filepath=pydiscamb.taam_parameters.get_default_databank(),\n",
    "    assignment_log_filepath=\"atom_type_assignment.log\",\n",
    "    parameter_log_filepath=\"multipolar_parameters.log\",\n",
    "    multipolar_cif_output_filepath=\"structure.cif\",\n",
    "    unit_cell_charge=0,\n",
    "    perform_parameter_scaling_from_unit_cell_charge=True,\n",
    ")\n",
    "fcalc = wrapper.f_calc(2.0)\n",
    "\n",
    "# The parameters are described in the function documentation\n",
    "help(pydiscamb.DiscambWrapper.from_TAAM_parameters)"
   ]
  },
  {
   "cell_type": "code",
   "execution_count": 8,
   "metadata": {},
   "outputs": [
    {
     "data": {
      "text/plain": [
       "['/home/viljar/anaconda3/envs/pyDiSCaMB_dev/lib/python3.8/site-packages/pydiscamb/data/empty_TAAM_databank.txt',\n",
       " '/home/viljar/anaconda3/envs/pyDiSCaMB_dev/lib/python3.8/site-packages/pydiscamb/data/MATTS2021databank.txt']"
      ]
     },
     "execution_count": 8,
     "metadata": {},
     "output_type": "execute_result"
    }
   ],
   "source": [
    "# List available banks in the installation\n",
    "banks = pydiscamb.get_TAAM_databanks()\n",
    "banks"
   ]
  },
  {
   "cell_type": "markdown",
   "metadata": {},
   "source": [
    "# Structure factor gradients\n",
    "For refinement purposes, DiSCaMB's gradient calculations are exposed"
   ]
  },
  {
   "cell_type": "code",
   "execution_count": 9,
   "metadata": {},
   "outputs": [],
   "source": [
    "# Set up wrapper\n",
    "wrapper = pydiscamb.DiscambWrapper(xrs)\n",
    "wrapper.set_indices(f_obs.indices())\n",
    "\n",
    "# Get derivatives of each Fcalc with respect to each site, adp, occupancy ect.\n",
    "f_calc_derivatives = wrapper.d_f_calc_d_params()\n",
    "\n",
    "# Output is list of derivative objects, indices correspond to indices in f_obs.indices()\n",
    "single_f_calc_derivatives = f_calc_derivatives[0]\n",
    "# Corresponding hkl is therefore f_obs.indices()[0]\n",
    "\n",
    "# Result object contains lists of parameter derivatives.\n",
    "# Indices correspond to scattereres in the structure\n",
    "site_derivatives = single_f_calc_derivatives.site_derivatives\n",
    "first_atom_xyz = site_derivatives[0]\n",
    "# Corresponding scatterer (\"first atom\") is therefore xrs.scatterers()[0]"
   ]
  },
  {
   "cell_type": "markdown",
   "metadata": {},
   "source": [
    "We can also calculate derivatives with respect to a target function, provided the derivatives of the target with respect to each Fcalc"
   ]
  },
  {
   "cell_type": "code",
   "execution_count": 10,
   "metadata": {},
   "outputs": [],
   "source": [
    "# First, get target\n",
    "from mmtbx import f_model\n",
    "model = f_model.manager(f_obs=f_obs, xray_structure=xrs)\n",
    "target = model.target_functor()(compute_gradients=True)\n",
    "d_target_d_fcalc = target.d_target_d_f_calc_work()\n",
    "\n",
    "# Calculate gradients of target\n",
    "gradients = wrapper.d_target_d_params(list(d_target_d_fcalc.data()))\n",
    "\n",
    "# Output is now similar to the earlier output for a single hkl\n",
    "# However, the indices now correspond directly to scatterers\n",
    "single_atom_gradients = gradients[0]\n",
    "# Corresponds to xrs.scatterers()[0]\n",
    "xyz = single_atom_gradients.site_derivatives\n",
    "adps = single_atom_gradients.adp_derivatives\n",
    "# Can be 1 or 6 elements in the adp list, depending on xrs (uiso/uaniso)"
   ]
  }
 ],
 "metadata": {
  "kernelspec": {
   "display_name": "pyDiSCaMB_dev",
   "language": "python",
   "name": "python3"
  },
  "language_info": {
   "codemirror_mode": {
    "name": "ipython",
    "version": 3
   },
   "file_extension": ".py",
   "mimetype": "text/x-python",
   "name": "python",
   "nbconvert_exporter": "python",
   "pygments_lexer": "ipython3",
   "version": "3.8.20"
  }
 },
 "nbformat": 4,
 "nbformat_minor": 2
}
