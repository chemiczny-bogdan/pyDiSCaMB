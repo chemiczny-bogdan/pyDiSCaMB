{
 "cells": [
  {
   "cell_type": "code",
   "execution_count": 1,
   "metadata": {},
   "outputs": [],
   "source": [
    "import pydiscamb"
   ]
  },
  {
   "cell_type": "markdown",
   "metadata": {},
   "source": [
    "# Load structure\n",
    "\n",
    "Structures can be loaded using cctbx, from pdb-files or cif-files. Here, only pdb is shown, but loading cif is similar.\n",
    "Additionally, Fobs can be read from a mtz-file, or from a cif. Only mtz is shown."
   ]
  },
  {
   "cell_type": "code",
   "execution_count": 2,
   "metadata": {},
   "outputs": [],
   "source": [
    "import iotbx.pdb\n",
    "import mmtbx.model\n",
    "from iotbx import reflection_file_reader\n",
    "\n",
    "pdb_filename = \"../../4znn.pdb\"\n",
    "pdb_inp = iotbx.pdb.input(file_name=pdb_filename)\n",
    "model = mmtbx.model.manager(model_input=pdb_inp)\n",
    "xrs = model.get_xray_structure()\n",
    "\n",
    "# Scattering table is read from the structure\n",
    "xrs.scattering_type_registry(table=\"electron\")\n",
    "\n",
    "# Load Fobs\n",
    "mtz_filename = \"../../4znn.mtz\"\n",
    "miller_arrays = reflection_file_reader.any_reflection_file(\n",
    "    file_name=mtz_filename\n",
    ").as_miller_arrays()\n",
    "for ma in miller_arrays:\n",
    "    if ma.info().label_string() == \"FP,SIGFP\":\n",
    "        f_obs = ma"
   ]
  },
  {
   "cell_type": "markdown",
   "metadata": {},
   "source": [
    "# Structure factor calculations"
   ]
  },
  {
   "cell_type": "code",
   "execution_count": 3,
   "metadata": {},
   "outputs": [
    {
     "data": {
      "text/plain": [
       "<scitbx_array_family_flex_ext.complex_double at 0x7fe3000b7db0>"
      ]
     },
     "execution_count": 3,
     "metadata": {},
     "output_type": "execute_result"
    }
   ],
   "source": [
    "## The simplest usage: calculate structure factors in one call\n",
    "fcalc = pydiscamb.calculate_structure_factors_IAM(xrs, d_min=2)\n",
    "\n",
    "# TAAM is also available in this way:\n",
    "fcalc = pydiscamb.calculate_structure_factors_TAAM(xrs, d_min=2)\n",
    "fcalc"
   ]
  },
  {
   "cell_type": "markdown",
   "metadata": {},
   "source": [
    "`fcalc` is a `scitbx.array_family.flex.complex_double`, and does not retain information about the corresponding hkls.\n",
    "These can be re-constructed with cctbx:"
   ]
  },
  {
   "cell_type": "code",
   "execution_count": 4,
   "metadata": {},
   "outputs": [
    {
     "data": {
      "text/plain": [
       "crystal.symmetry(\n",
       "    unit_cell=(17.93, 4.71, 33.03, 90, 94.33, 90),\n",
       "    space_group_symbol=\"P 1 21 1\"\n",
       "  )\n",
       "<scitbx_array_family_flex_ext.complex_double object at 0x7fe3000b7db0>\n",
       "size: 486"
      ]
     },
     "execution_count": 4,
     "metadata": {},
     "output_type": "execute_result"
    }
   ],
   "source": [
    "# Get set of indices. This is the same way pydiscamb gets indices from d_min\n",
    "s = xrs.structure_factors(d_min=2).miller_set()\n",
    "fcalc = s.array(data=fcalc)\n",
    "fcalc"
   ]
  },
  {
   "cell_type": "markdown",
   "metadata": {},
   "source": [
    "# Advanced structure factor calculations"
   ]
  },
  {
   "cell_type": "markdown",
   "metadata": {},
   "source": [
    "For simple calculations, a simple `d_min` can be sufficient. For more complex workflows, e.g. when you want to use specific indices, use `DiscambWrapper`:"
   ]
  },
  {
   "cell_type": "code",
   "execution_count": 5,
   "metadata": {},
   "outputs": [
    {
     "data": {
      "text/plain": [
       "<scitbx_array_family_flex_ext.complex_double at 0x7fe20cc36360>"
      ]
     },
     "execution_count": 5,
     "metadata": {},
     "output_type": "execute_result"
    }
   ],
   "source": [
    "wrapper = pydiscamb.DiscambWrapper(xrs)\n",
    "\n",
    "# Either set d_min:\n",
    "wrapper.set_d_min(2.0)\n",
    "fcalc = wrapper.f_calc()\n",
    "\n",
    "# Or, as a short-hand:\n",
    "fcalc = wrapper.f_calc(2.0)\n",
    "\n",
    "# Or set indices directly\n",
    "wrapper.set_indices([(0, 1, 0), (2, 3, 1)])\n",
    "fcalc = wrapper.f_calc()\n",
    "\n",
    "# Also works with miller.indices()\n",
    "wrapper.set_indices(f_obs.indices())\n",
    "fcalc = wrapper.f_calc()\n",
    "fcalc"
   ]
  },
  {
   "cell_type": "markdown",
   "metadata": {},
   "source": [
    "Note that fcalc is still a flex array without knowledge of indices. \n",
    "The corresponding indices are available in `wrapper.hkl`, both when using `d_min` and `indices`.\n",
    "As a short-hand, passing an array of structure factors directly to `f_calc` yields a miller array including indices:"
   ]
  },
  {
   "cell_type": "code",
   "execution_count": 6,
   "metadata": {},
   "outputs": [
    {
     "data": {
      "text/plain": [
       "crystal.symmetry(\n",
       "    unit_cell=(17.93000031, 4.710000038, 33.02999878, 90, 94.33000183, 90),\n",
       "    space_group_symbol=\"P 1 21 1\"\n",
       "  )\n",
       "<scitbx_array_family_flex_ext.complex_double object at 0x7fe20cc2e7c0>\n",
       "size: 1118"
      ]
     },
     "execution_count": 6,
     "metadata": {},
     "output_type": "execute_result"
    }
   ],
   "source": [
    "wrapper.f_calc(f_obs)"
   ]
  },
  {
   "cell_type": "code",
   "execution_count": 7,
   "metadata": {},
   "outputs": [
    {
     "data": {
      "text/plain": [
       "[(-12, 0, 1),\n",
       " (-12, 0, 2),\n",
       " (-12, 1, 1),\n",
       " (-12, 1, 2),\n",
       " (-12, 1, 3),\n",
       " (-11, 0, 1),\n",
       " (-11, 0, 2),\n",
       " (-11, 0, 3),\n",
       " (-11, 0, 4),\n",
       " (-11, 0, 5)]"
      ]
     },
     "execution_count": 7,
     "metadata": {},
     "output_type": "execute_result"
    }
   ],
   "source": [
    "# DiscambWrapper.hkl is a read-only list of tuples of three ints\n",
    "wrapper.hkl[:10]"
   ]
  },
  {
   "cell_type": "markdown",
   "metadata": {},
   "source": [
    "# TAAM\n",
    "DiSCaMB's TAAM functionality is available:"
   ]
  },
  {
   "cell_type": "code",
   "execution_count": 8,
   "metadata": {},
   "outputs": [],
   "source": [
    "taam_wrapper = pydiscamb.DiscambWrapper(xrs, method=pydiscamb.FCalcMethod.TAAM)\n",
    "fcalc = taam_wrapper.f_calc(2.0)"
   ]
  },
  {
   "cell_type": "markdown",
   "metadata": {},
   "source": [
    "More control for e.g. logging can be achieved by passing additional kwargs:"
   ]
  },
  {
   "cell_type": "code",
   "execution_count": 9,
   "metadata": {},
   "outputs": [],
   "source": [
    "wrapper = pydiscamb.DiscambWrapper(\n",
    "    xrs,\n",
    "    # Below are all available parameters for the TAAM calculator.\n",
    "    # The first three are set when passing `method=FCalcMethod.TAAM`,\n",
    "    # but kwargs override these defaults. \n",
    "    # (Meaning we could say `method=FCalcMethod.IAM` and would still use TAAM, by setting `model=\"taam\"`.)\n",
    "    model=\"taam\",\n",
    "    electron_scattering=False,                                  # Whether to use Mott-Bethe to convert to electron scattering\n",
    "    bank_path=pydiscamb.taam_parameters.get_default_databank(), # Path to TAAM parameters, this is the default value\n",
    "    \n",
    "    # Below parameters are additional, and are not set when specifying FCalcMethod.\n",
    "    assignment_info=\"atom_type_assignment.log\",     # Path to output log file for atom type assignment\n",
    "    parameters_info=\"multipolar_parameters.log\",    # Path to output log file for assigned multipolar parameters\n",
    "    multipole_cif=\"structure.cif\",                  # Path to output multipolar cif file\n",
    "    unit_cell_charge=0,                             # Unit cell charge, default 0\n",
    "    scale=True,                                     # Whether to scale the multipolar parameters based on unit cell charge, default True\n",
    ")\n",
    "fcalc = wrapper.f_calc(2.0)"
   ]
  },
  {
   "cell_type": "code",
   "execution_count": 10,
   "metadata": {},
   "outputs": [
    {
     "data": {
      "text/plain": [
       "['/home/vife5188/Phenix/phenix-2.0rc1-5592/lib/python3.9/site-packages/pydiscamb/data/empty_TAAM_databank.txt',\n",
       " '/home/vife5188/Phenix/phenix-2.0rc1-5592/lib/python3.9/site-packages/pydiscamb/data/MATTS2021databank.txt']"
      ]
     },
     "execution_count": 10,
     "metadata": {},
     "output_type": "execute_result"
    }
   ],
   "source": [
    "# List available banks in the installation\n",
    "banks = pydiscamb.get_TAAM_databanks()\n",
    "banks"
   ]
  },
  {
   "cell_type": "markdown",
   "metadata": {},
   "source": [
    "# Structure factor gradients\n",
    "For refinement purposes, DiSCaMB's gradient calculations are exposed"
   ]
  },
  {
   "cell_type": "code",
   "execution_count": 11,
   "metadata": {},
   "outputs": [],
   "source": [
    "# Set up wrapper\n",
    "wrapper = pydiscamb.DiscambWrapper(xrs)\n",
    "wrapper.set_indices(f_obs.indices())\n",
    "\n",
    "# Get derivatives of each Fcalc with respect to each site, adp, occupancy ect.\n",
    "f_calc_derivatives = wrapper.d_f_calc_d_params()\n",
    "\n",
    "# Output is list of derivative objects, indices correspond to indices in f_obs.indices()\n",
    "single_f_calc_derivatives = f_calc_derivatives[0]\n",
    "# Corresponding hkl is therefore f_obs.indices()[0]\n",
    "\n",
    "# Result object contains lists of parameter derivatives.\n",
    "# Indices correspond to scattereres in the structure\n",
    "site_derivatives = single_f_calc_derivatives.site_derivatives\n",
    "first_atom_xyz = site_derivatives[0]\n",
    "# Corresponding scatterer (\"first atom\") is therefore xrs.scatterers()[0]"
   ]
  },
  {
   "cell_type": "markdown",
   "metadata": {},
   "source": [
    "We can also calculate derivatives with respect to a target function, provided a `list` of the derivatives of the target with respect to each Fcalc"
   ]
  },
  {
   "cell_type": "code",
   "execution_count": 12,
   "metadata": {},
   "outputs": [],
   "source": [
    "# First, get target\n",
    "from mmtbx import f_model\n",
    "model = f_model.manager(f_obs=f_obs, xray_structure=xrs)\n",
    "target = model.target_functor()(compute_gradients=True)\n",
    "d_target_d_fcalc = target.d_target_d_f_calc_work()\n",
    "\n",
    "# Calculate gradients of target\n",
    "gradients = wrapper.d_target_d_params(list(d_target_d_fcalc.data()))\n",
    "\n",
    "# Output is now similar to the earlier output for a single hkl\n",
    "# However, the indices now correspond directly to scatterers\n",
    "single_atom_gradients = gradients[0]\n",
    "# Corresponds to xrs.scatterers()[0]\n",
    "xyz = single_atom_gradients.site_derivatives\n",
    "adps = single_atom_gradients.adp_derivatives\n",
    "# Can be 1 or 6 elements in the adp list, depending on xrs (uiso/uaniso)"
   ]
  },
  {
   "cell_type": "markdown",
   "metadata": {},
   "source": [
    "For integration with cctbx, passing a `cctbx.miller.array` or `flex.complex_double` yields a packed `flex.double` of the derivatives specified in the scatterer flags"
   ]
  },
  {
   "cell_type": "code",
   "execution_count": 13,
   "metadata": {},
   "outputs": [
    {
     "data": {
      "text/plain": [
       "<scitbx_array_family_flex_ext.double at 0x7fe209239640>"
      ]
     },
     "execution_count": 13,
     "metadata": {},
     "output_type": "execute_result"
    }
   ],
   "source": [
    "from cctbx import xray\n",
    "xray.set_scatterer_grad_flags(\n",
    "    scatterers=xrs.scatterers(),\n",
    "    site=True,\n",
    ")\n",
    "wrapper = pydiscamb.DiscambWrapper(xrs)\n",
    "gradients = wrapper.d_target_d_params(d_target_d_fcalc)\n",
    "gradients"
   ]
  }
 ],
 "metadata": {
  "kernelspec": {
   "display_name": "phenix-2.0rc1-5592",
   "language": "python",
   "name": "python3"
  },
  "language_info": {
   "codemirror_mode": {
    "name": "ipython",
    "version": 3
   },
   "file_extension": ".py",
   "mimetype": "text/x-python",
   "name": "python",
   "nbconvert_exporter": "python",
   "pygments_lexer": "ipython3",
   "version": "3.9.21"
  }
 },
 "nbformat": 4,
 "nbformat_minor": 2
}
