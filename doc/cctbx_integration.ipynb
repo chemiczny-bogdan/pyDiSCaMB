{
 "cells": [
  {
   "cell_type": "markdown",
   "id": "98053762",
   "metadata": {},
   "source": [
    "# ccbtx integration\n",
    "\n",
    "This notebook shows how to use pydiscamb's capabilities in cctbx"
   ]
  },
  {
   "cell_type": "code",
   "execution_count": 1,
   "id": "affa25f0",
   "metadata": {},
   "outputs": [],
   "source": [
    "# Compute structure factors\n",
    "from iotbx import pdb\n",
    "\n",
    "xrs = pdb.input(\"data/tyrosine.pdb\").xray_structure_simple()\n",
    "f_calc = xrs.structure_factors(algorithm=\"taam\", d_min=1.0).f_calc()"
   ]
  },
  {
   "cell_type": "code",
   "execution_count": 2,
   "id": "b8073ce6",
   "metadata": {},
   "outputs": [
    {
     "data": {
      "text/plain": [
       "0.0"
      ]
     },
     "execution_count": 2,
     "metadata": {},
     "output_type": "execute_result"
    }
   ],
   "source": [
    "# Using mmtbx's f_model object\n",
    "from mmtbx import f_model\n",
    "\n",
    "params = f_model.sf_and_grads_accuracy_master_params.extract()\n",
    "params.algorithm = \"taam\"\n",
    "\n",
    "manager = f_model.manager(\n",
    "    f_obs = f_calc.as_amplitude_array(), # Normally this would be f_obs read from a file somewhere\n",
    "    xray_structure = xrs,\n",
    "    sf_and_grads_accuracy_params = params\n",
    ")\n",
    "# As Fobs is TAAM Fcalc, the R-factor should be 0\n",
    "manager.r_all()"
   ]
  },
  {
   "cell_type": "code",
   "execution_count": 3,
   "id": "90903848",
   "metadata": {},
   "outputs": [
    {
     "data": {
      "text/plain": [
       "0.0124050953682757"
      ]
     },
     "execution_count": 3,
     "metadata": {},
     "output_type": "execute_result"
    }
   ],
   "source": [
    "# Additional parameters\n",
    "\n",
    "params.extra.discamb.taam.unit_cell_charge = 4\n",
    "params.extra.discamb.taam.freeze_local_coordinate_system = True\n",
    "\n",
    "manager = f_model.manager(\n",
    "    f_obs = f_calc.as_amplitude_array(), # We use the previous TAAM Fcalc again\n",
    "    xray_structure = xrs,\n",
    "    sf_and_grads_accuracy_params = params\n",
    ")\n",
    "# Since we use different parameters, this should be non-zero\n",
    "manager.r_all()"
   ]
  }
 ],
 "metadata": {
  "kernelspec": {
   "display_name": "phenix-2.0-5781",
   "language": "python",
   "name": "python3"
  },
  "language_info": {
   "codemirror_mode": {
    "name": "ipython",
    "version": 3
   },
   "file_extension": ".py",
   "mimetype": "text/x-python",
   "name": "python",
   "nbconvert_exporter": "python",
   "pygments_lexer": "ipython3",
   "version": "3.9.23"
  }
 },
 "nbformat": 4,
 "nbformat_minor": 5
}
