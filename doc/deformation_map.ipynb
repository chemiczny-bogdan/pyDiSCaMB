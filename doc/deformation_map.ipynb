{
 "cells": [
  {
   "cell_type": "markdown",
   "id": "653388ae",
   "metadata": {},
   "source": [
    "# Deformation map\n",
    "\n",
    "This notebook will show how to compute a deformation map, i.e. $F_\\text{calc}^\\text{TAAM} - F_\\text{calc}^\\text{IAM}$"
   ]
  },
  {
   "cell_type": "markdown",
   "id": "81362db1",
   "metadata": {},
   "source": [
    "## Setup: structure definition\n",
    "\n",
    "We first load the structure information from a .cif file or a .pdb file. Here, an ethanol molecule in a P1 box is provided, but this can be replaced with whatever structure you have"
   ]
  },
  {
   "cell_type": "code",
   "execution_count": null,
   "id": "90c0b9cc",
   "metadata": {},
   "outputs": [],
   "source": [
    "from pathlib import Path\n",
    "\n",
    "# Replace this with a path to your structure file\n",
    "structure_file = Path().resolve() / \"ethanol.pdb\""
   ]
  },
  {
   "cell_type": "code",
   "execution_count": null,
   "id": "6209f773",
   "metadata": {},
   "outputs": [],
   "source": [
    "# This cell generates the example pdb file, if it does not exist\n",
    "if not structure_file.exists():\n",
    "    structure_file.write_text(\"\"\"\n",
    "CRYST1   10.000   10.000   10.000  90.00  90.00  90.00 P 1\n",
    "SCALE1      0.100000  0.000000  0.000000        0.00000\n",
    "SCALE2      0.000000  0.100000  0.000000        0.00000\n",
    "SCALE3      0.000000  0.000000  0.100000        0.00000\n",
    "ATOM      1 C1    C1     1      -0.756   0.000   0.000  1.00  0.00           C\n",
    "ATOM      2 C2    C2     2       0.756   0.000   0.000  1.00  0.00           C\n",
    "ATOM      3 H1    H1     3      -1.140   0.659   0.785  1.00  0.00           H\n",
    "ATOM      4 H2    H2     4      -1.140   0.350  -0.963  1.00  0.00           H\n",
    "ATOM      5 H3    H3     5      -1.141  -1.009   0.178  1.00  0.00           H\n",
    "ATOM      6 H4    H4     6       1.140  -0.350   0.963  1.00  0.00           H\n",
    "ATOM      7 H5    H5     7       1.141   1.009  -0.178  1.00  0.00           H\n",
    "ATOM      8 H6    H6     8       1.140  -0.659  -0.785  1.00  0.00           H\n",
    "END\n",
    "\"\"\")"
   ]
  },
  {
   "cell_type": "markdown",
   "id": "d45a2ff2",
   "metadata": {},
   "source": [
    "## Compute deformation map\n",
    "\n",
    "Next, we initialize an IAM calculator and a TAAM calculator, set the resolution we want, and compute a deformation map. This is then saved in an .mtz-file."
   ]
  },
  {
   "cell_type": "code",
   "execution_count": null,
   "id": "a87b3de1",
   "metadata": {},
   "outputs": [],
   "source": [
    "import pydiscamb\n",
    "from cctbx import miller\n",
    "from iotbx import pdb\n",
    "\n",
    "# Load structure\n",
    "xrs = pdb.input(file_name=str(structure_file)).xray_structure_simple()\n",
    "xrs.scattering_type_registry(table=\"xray\")\n",
    "\n",
    "# Prepare calculators\n",
    "iam_calculator = pydiscamb.DiscambWrapper(\n",
    "    xrs,\n",
    "    method=pydiscamb.FCalcMethod.IAM,\n",
    ")\n",
    "taam_calculator = pydiscamb.DiscambWrapper(\n",
    "    xrs,\n",
    "    method=pydiscamb.FCalcMethod.TAAM,\n",
    ")\n",
    "\n",
    "# Set resolution\n",
    "miller_set = miller.build_set(\n",
    "    crystal_symmetry=xrs.crystal_symmetry(), \n",
    "    anomalous_flag=False, \n",
    "    d_min=0.3,\n",
    ")\n",
    "iam_calculator.set_indices(miller_set.indices())\n",
    "taam_calculator.set_indices(miller_set.indices())\n",
    "\n",
    "# Compute structure factors\n",
    "fcalc_iam = iam_calculator.f_calc()\n",
    "fcalc_taam = taam_calculator.f_calc()\n",
    "\n",
    "# Compute deformation map\n",
    "deformation_map = fcalc_taam - fcalc_iam\n",
    "\n",
    "# Create a miller.array to save\n",
    "deformation_map_array = miller_set.array(\n",
    "    data=deformation_map,\n",
    ")\n",
    "deformation_map_array.write_mtz(\n",
    "    file_name=\"deformation_map.mtz\",\n",
    ")"
   ]
  }
 ],
 "metadata": {
  "kernelspec": {
   "display_name": "phenix-2.0-5730",
   "language": "python",
   "name": "python3"
  },
  "language_info": {
   "codemirror_mode": {
    "name": "ipython",
    "version": 3
   },
   "file_extension": ".py",
   "mimetype": "text/x-python",
   "name": "python",
   "nbconvert_exporter": "python",
   "pygments_lexer": "ipython3",
   "version": "3.9.23"
  }
 },
 "nbformat": 4,
 "nbformat_minor": 5
}
