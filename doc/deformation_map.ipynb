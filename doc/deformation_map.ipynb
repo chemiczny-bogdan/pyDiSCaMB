{
 "cells": [
  {
   "cell_type": "markdown",
   "id": "653388ae",
   "metadata": {},
   "source": [
    "# Deformation map\n",
    "\n",
    "This notebook will show how to compute a deformation map, i.e. $F_\\text{calc}^\\text{TAAM} - F_\\text{calc}^\\text{IAM}$.\n",
    "We first load the structure information from a .cif file or a .pdb file. Here, a molecule in a P1 box is provided, but this can be replaced with whatever structure you have\n",
    "Next, we initialize an IAM calculator and a TAAM calculator, set the resolution we want, and compute a deformation map. This is then saved in an .mtz-file."
   ]
  },
  {
   "cell_type": "code",
   "execution_count": 1,
   "id": "a87b3de1",
   "metadata": {},
   "outputs": [
    {
     "name": "stdout",
     "output_type": "stream",
     "text": [
      "{\"algorithm\":\"macromol\",\"assignment csv\":\"/tmp/pyDiSCaMB-atom-assignmentva_767g_.csv\",\"bank path\":\"/home/vife5188/Phenix/phenix-2.0-5730/lib/python3.9/site-packages/pydiscamb/data/MATTS2021databank.txt\",\"electron scattering\":false,\"model\":\"taam\",\"table\":\"IT92\"}\n"
     ]
    }
   ],
   "source": [
    "import pydiscamb\n",
    "from cctbx import miller\n",
    "from iotbx import pdb\n",
    "from pathlib import Path\n",
    "\n",
    "# Replace this with a path to your structure file\n",
    "structure_file = Path().resolve() / \"data\" / \"tyrosine.pdb\"\n",
    "\n",
    "# Load structure\n",
    "xrs = pdb.input(file_name=str(structure_file)).xray_structure_simple()\n",
    "xrs.scattering_type_registry(table=\"xray\")\n",
    "\n",
    "# Prepare calculators\n",
    "iam_calculator = pydiscamb.DiscambWrapper(\n",
    "    xrs,\n",
    "    method=pydiscamb.FCalcMethod.IAM,\n",
    ")\n",
    "taam_calculator = pydiscamb.DiscambWrapper(\n",
    "    xrs,\n",
    "    method=pydiscamb.FCalcMethod.TAAM,\n",
    ")\n",
    "\n",
    "# Set resolution\n",
    "miller_set = miller.build_set(\n",
    "    crystal_symmetry=xrs.crystal_symmetry(), \n",
    "    anomalous_flag=False, \n",
    "    d_min=0.7,\n",
    ")\n",
    "iam_calculator.set_indices(miller_set.indices())\n",
    "taam_calculator.set_indices(miller_set.indices())\n",
    "\n",
    "# Compute structure factors\n",
    "fcalc_iam = iam_calculator.f_calc()\n",
    "fcalc_taam = taam_calculator.f_calc()\n",
    "\n",
    "# Compute deformation map\n",
    "deformation_map = fcalc_taam - fcalc_iam\n",
    "\n",
    "# Create a miller.array to save\n",
    "deformation_map_array = miller_set.array(\n",
    "    data=deformation_map,\n",
    ")\n",
    "deformation_map_array.write_mtz(\n",
    "    file_name=\"deformation_map.mtz\",\n",
    ")"
   ]
  },
  {
   "cell_type": "markdown",
   "id": "fd71484b",
   "metadata": {},
   "source": [
    "Below is a capture from Coot, showing the resulting deformation map at 3.0 RMSD\n",
    "\n",
    "![tyrosine_difference_map.png](./data/tyrosine_difference_map.png)\n"
   ]
  }
 ],
 "metadata": {
  "kernelspec": {
   "display_name": "phenix-2.0-5730",
   "language": "python",
   "name": "python3"
  },
  "language_info": {
   "codemirror_mode": {
    "name": "ipython",
    "version": 3
   },
   "file_extension": ".py",
   "mimetype": "text/x-python",
   "name": "python",
   "nbconvert_exporter": "python",
   "pygments_lexer": "ipython3",
   "version": "3.9.23"
  }
 },
 "nbformat": 4,
 "nbformat_minor": 5
}
