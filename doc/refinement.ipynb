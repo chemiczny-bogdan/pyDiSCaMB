{
 "cells": [
  {
   "cell_type": "markdown",
   "id": "c2616581",
   "metadata": {},
   "source": [
    "# Refinement\n",
    "This notebook will show how to perform a simple form of structure refinement"
   ]
  },
  {
   "cell_type": "markdown",
   "id": "8653a035",
   "metadata": {},
   "source": [
    "## Generate artificial data\n",
    "\n",
    "We will here generate some scattering data, to refine against"
   ]
  },
  {
   "cell_type": "code",
   "execution_count": 7,
   "id": "bfcf2a21",
   "metadata": {},
   "outputs": [
    {
     "data": {
      "text/plain": [
       "True"
      ]
     },
     "execution_count": 7,
     "metadata": {},
     "output_type": "execute_result"
    }
   ],
   "source": [
    "from iotbx import pdb\n",
    "\n",
    "# Load structure, use a pdb of tyrosine\n",
    "xrs = pdb.input(\n",
    "    source_info=\"\", \n",
    "    lines=\"\"\"\n",
    "CRYST1   16.170   14.591   15.187  90.00  90.00  90.00 P 1\n",
    "SCALE1      0.061843  0.000000  0.000000        0.00000\n",
    "SCALE2      0.000000  0.068535  0.000000        0.00000\n",
    "SCALE3      0.000000  0.000000  0.065846        0.00000\n",
    "ATOM      1  N   TYR A   4       8.357   9.217   8.801  1.00 10.55           N\n",
    "ATOM      2  CA  TYR A   4       9.150   8.055   9.050  1.00 10.24           C\n",
    "ATOM      3  C   TYR A   4      10.419   8.399   9.804  1.00  9.86           C\n",
    "ATOM      4  O   TYR A   4      10.726   9.591  10.050  1.00 11.39           O\n",
    "ATOM      5  CB  TYR A   4       9.496   7.352   7.737  1.00 30.00           C\n",
    "ATOM      6  CG  TYR A   4       8.296   6.791   7.006  1.00 30.00           C\n",
    "ATOM      7  CD1 TYR A   4       7.820   5.517   7.293  1.00 30.00           C\n",
    "ATOM      8  CD2 TYR A   4       7.642   7.534   6.034  1.00 30.00           C\n",
    "ATOM      9  CE1 TYR A   4       6.724   5.000   6.628  1.00 30.00           C\n",
    "ATOM     10  CE2 TYR A   4       6.545   7.024   5.364  1.00 30.00           C\n",
    "ATOM     11  CZ  TYR A   4       6.091   5.758   5.665  1.00 30.00           C\n",
    "ATOM     12  OH  TYR A   4       5.000   5.244   5.000  1.00 30.00           O\n",
    "ATOM     13  OXT TYR A   4      11.170   7.502  10.187  1.00  9.86           O\n",
    "ATOM     14  H1  TYR A   4       8.254   9.323   7.923  1.00 10.55           H\n",
    "ATOM     15  H2  TYR A   4       7.560   9.120   9.184  1.00 10.55           H\n",
    "ATOM     16  H3  TYR A   4       8.764   9.932   9.140  1.00 10.55           H\n",
    "ATOM     17  HA  TYR A   4       8.637   7.441   9.599  1.00 10.24           H\n",
    "ATOM     18  HB2 TYR A   4       9.929   7.989   7.148  1.00 30.00           H\n",
    "ATOM     19  HB3 TYR A   4      10.097   6.615   7.928  1.00 30.00           H\n",
    "ATOM     20  HD1 TYR A   4       8.245   5.005   7.942  1.00 30.00           H\n",
    "ATOM     21  HD2 TYR A   4       7.946   8.389   5.830  1.00 30.00           H\n",
    "ATOM     22  HE1 TYR A   4       6.415   4.146   6.829  1.00 30.00           H\n",
    "ATOM     23  HE2 TYR A   4       6.116   7.532   4.714  1.00 30.00           H\n",
    "ATOM     24  HH  TYR A   4       4.712   5.804   4.444  1.00 30.00           H\n",
    "END\n",
    "\"\"\",\n",
    ").xray_structure_simple()\n",
    "xrs.scattering_type_registry(table=\"electron\")\n",
    "\n",
    "# Generate Fobs\n",
    "f_obs = xrs.structure_factors(d_min=0.8).f_calc().as_amplitude_array()\n",
    "r_free_flags = f_obs.generate_r_free_flags_basic()\n",
    "\n",
    "# Shake the structure a little, to have something to refine against\n",
    "xrs.shake_sites_in_place(rms_difference=0.1)\n",
    "# xrs.shake_adp()"
   ]
  },
  {
   "cell_type": "markdown",
   "id": "d12ebaeb",
   "metadata": {},
   "source": [
    "## Refinement loop\n",
    "Here we show a simple gradient descent refinement with gradients from pydiscamb"
   ]
  },
  {
   "cell_type": "code",
   "execution_count": null,
   "id": "f323f9a2",
   "metadata": {},
   "outputs": [
    {
     "name": "stdout",
     "output_type": "stream",
     "text": [
      "0.1005064515328304\n",
      "(0.5165253338155734, 0.63597654839914, 0.578988328425782)\n",
      "(0.5169212425706852, 0.6351576828089455, 0.5787618835237209)\n",
      "0.1290907633056445\n",
      "(0.5169212425706852, 0.6351576828089455, 0.5787618835237209)\n",
      "(0.5119262877231266, 0.6389662347346619, 0.5790378497707083)\n",
      "0.28526525044004686\n",
      "(0.5119262877231266, 0.6389662347346619, 0.5790378497707083)\n",
      "(0.47904933788541926, 0.6446018143526926, 0.5827464904414766)\n",
      "0.5482311731073953\n",
      "(0.47904933788541926, 0.6446018143526926, 0.5827464904414766)\n",
      "(0.4602919204154934, 0.4241549203716044, 0.6713423675931709)\n",
      "0.5892799803046243\n",
      "(0.4602919204154934, 0.4241549203716044, 0.6713423675931709)\n",
      "(0.14648048221677462, 0.2958990460191544, 0.9396279093005958)\n",
      "0.6331462920534975\n",
      "(0.14648048221677462, 0.2958990460191544, 0.9396279093005958)\n",
      "(-0.3114926304085149, -0.3772191516548208, 1.7691553030987461)\n",
      "0.6322039488209129\n",
      "(-0.3114926304085149, -0.3772191516548208, 1.7691553030987461)\n",
      "(-0.10210159884793163, 1.0691540955221437, 1.9388677352578523)\n",
      "0.638045966687452\n",
      "(-0.10210159884793163, 1.0691540955221437, 1.9388677352578523)\n",
      "(3.794662010531334, -2.2528035007171674, 2.2608852755253745)\n",
      "0.6243961998387896\n",
      "(3.794662010531334, -2.2528035007171674, 2.2608852755253745)\n",
      "(3.927580810999044, -2.1246219270379694, 1.9416609777166256)\n",
      "0.6303146589558071\n",
      "(3.927580810999044, -2.1246219270379694, 1.9416609777166256)\n",
      "(5.1955196018013545, 1.5381455998720903, 1.5537625402766715)\n"
     ]
    }
   ],
   "source": [
    "import pydiscamb\n",
    "\n",
    "# Set up wrapper\n",
    "wrapper = pydiscamb.DiscambWrapper(xrs)\n",
    "wrapper.set_indices(f_obs.indices())\n",
    "\n",
    "# Set up target functor\n",
    "from cctbx.array_family import flex\n",
    "from cctbx.xray import target_functors\n",
    "lsq = target_functors.least_squares(\n",
    "    compute_scale_using_all_data=True, \n",
    "    f_obs=f_obs, \n",
    "    weights=flex.double(f_obs.size(), 1.0), \n",
    "    r_free_flags=r_free_flags, \n",
    "    scale_factor=1,\n",
    ")\n",
    "\n",
    "for cycle in range(10):\n",
    "    # Compute gradients\n",
    "    f_calc = f_obs.array(data = wrapper.f_calc())\n",
    "    print(f_obs.r1_factor(f_calc))\n",
    "    d_target_d_f_calc = lsq(f_calc, False).target_per_reflection()\n",
    "    grads = wrapper.d_target_d_params(list(d_target_d_f_calc))\n",
    "\n",
    "    # Update structure\n",
    "    print(xrs.scatterers()[0].site)\n",
    "    for grad, scatterer in zip(grads, xrs.scatterers()):\n",
    "        scatterer.site = (\n",
    "            scatterer.site[0] - 0.01 * grad.site_derivatives[0],\n",
    "            scatterer.site[1] - 0.01 * grad.site_derivatives[1],\n",
    "            scatterer.site[2] - 0.01 * grad.site_derivatives[2],\n",
    "        )\n",
    "    print(xrs.scatterers()[0].site)\n",
    "    wrapper.update_structure(xrs)\n"
   ]
  },
  {
   "cell_type": "code",
   "execution_count": 9,
   "id": "e9ecc0a3",
   "metadata": {},
   "outputs": [
    {
     "ename": "AttributeError",
     "evalue": "'array' object has no attribute 'r'",
     "output_type": "error",
     "traceback": [
      "\u001b[0;31m---------------------------------------------------------------------------\u001b[0m",
      "\u001b[0;31mAttributeError\u001b[0m                            Traceback (most recent call last)",
      "Cell \u001b[0;32mIn[9], line 1\u001b[0m\n\u001b[0;32m----> 1\u001b[0m \u001b[43mf_obs\u001b[49m\u001b[38;5;241;43m.\u001b[39;49m\u001b[43mr\u001b[49m\n",
      "\u001b[0;31mAttributeError\u001b[0m: 'array' object has no attribute 'r'"
     ]
    }
   ],
   "source": [
    "f_obs.r"
   ]
  },
  {
   "cell_type": "code",
   "execution_count": null,
   "id": "dbe55b9e",
   "metadata": {},
   "outputs": [],
   "source": [
    "dpdfc = lsq(f_obs.array(data=flex.complex_double(f_obs.size(), 1.0)), False)"
   ]
  },
  {
   "cell_type": "code",
   "execution_count": null,
   "id": "8715e0bf",
   "metadata": {},
   "outputs": [],
   "source": [
    "dir(dpdfc)"
   ]
  },
  {
   "cell_type": "code",
   "execution_count": null,
   "id": "b058bb90",
   "metadata": {},
   "outputs": [],
   "source": [
    "dpdfc.target_per_reflection()"
   ]
  }
 ],
 "metadata": {
  "kernelspec": {
   "display_name": "phenix-2.0-5730",
   "language": "python",
   "name": "python3"
  },
  "language_info": {
   "codemirror_mode": {
    "name": "ipython",
    "version": 3
   },
   "file_extension": ".py",
   "mimetype": "text/x-python",
   "name": "python",
   "nbconvert_exporter": "python",
   "pygments_lexer": "ipython3",
   "version": "3.9.23"
  }
 },
 "nbformat": 4,
 "nbformat_minor": 5
}
