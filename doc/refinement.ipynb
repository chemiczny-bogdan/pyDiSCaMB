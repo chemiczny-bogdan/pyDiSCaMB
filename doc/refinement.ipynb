{
 "cells": [
  {
   "cell_type": "markdown",
   "id": "c2616581",
   "metadata": {},
   "source": [
    "# Refinement\n",
    "This notebook will show how to perform a simple form of structure refinement"
   ]
  },
  {
   "cell_type": "markdown",
   "id": "8653a035",
   "metadata": {},
   "source": [
    "## Generate artificial data\n",
    "\n",
    "We will here generate some scattering data, to refine against"
   ]
  },
  {
   "cell_type": "code",
   "execution_count": 12,
   "id": "bfcf2a21",
   "metadata": {},
   "outputs": [
    {
     "data": {
      "text/plain": [
       "True"
      ]
     },
     "execution_count": 12,
     "metadata": {},
     "output_type": "execute_result"
    }
   ],
   "source": [
    "from iotbx import pdb\n",
    "from pathlib import Path\n",
    "\n",
    "# Use a tyrosine in a P1 box\n",
    "structure_file = Path().resolve() / \"data\" / \"tyrosine.pdb\"\n",
    "\n",
    "# Load structure\n",
    "xrs = pdb.input(file_name=str(structure_file)).xray_structure_simple()\n",
    "xrs.scattering_type_registry(table=\"xray\")\n",
    "\n",
    "# Generate Fobs\n",
    "f_obs = xrs.structure_factors(d_min=0.8).f_calc().as_amplitude_array()\n",
    "\n",
    "# Shake the structure a little, to have something to refine against\n",
    "xrs.shake_sites_in_place(rms_difference=0.1)"
   ]
  },
  {
   "cell_type": "markdown",
   "id": "d12ebaeb",
   "metadata": {},
   "source": [
    "## Refinement loop\n",
    "Here we show a simple gradient descent refinement with gradients from pydiscamb.\n",
    "\n",
    "We use the least squares target function defined as:\n",
    "$$ LSQ(x, y) = \\frac{\\Sigma_i\\left(x_i - \\left|y_i\\right|\\right)^2}{\\Sigma_i x_i^2}, $$\n",
    "\n",
    "where $x$ is $F_\\text{obs}$ and $y$ is $F_\\text{calc}$.\n",
    "The gradient with respect to $F_\\text{calc}$ is\n",
    "$$ \\frac{\\partial }{\\partial y_i}LSQ(x, y) = \\frac{-2 \\cdot \\left(x_i - \\left|y_i\\right|\\right) }{\\Sigma_i x_i^2}\\frac{y_i}{|y_i|}, $$\n",
    "which is passed to DiSCaMB to compute the gradients of the target function with respect to atomic parameters."
   ]
  },
  {
   "cell_type": "code",
   "execution_count": null,
   "id": "f323f9a2",
   "metadata": {},
   "outputs": [
    {
     "name": "stdout",
     "output_type": "stream",
     "text": [
      "cycle =  0, R: 11.4%\n",
      "cycle =  1, R:  6.0%\n",
      "cycle =  2, R:  3.9%\n",
      "cycle =  3, R:  3.0%\n",
      "cycle =  4, R:  2.5%\n",
      "cycle =  5, R:  2.3%\n",
      "cycle =  6, R:  2.2%\n",
      "cycle =  7, R:  2.1%\n",
      "cycle =  8, R:  2.0%\n",
      "cycle =  9, R:  1.9%\n",
      "cycle = 10, R:  1.9%\n",
      "cycle = 11, R:  1.8%\n",
      "cycle = 12, R:  1.8%\n",
      "cycle = 13, R:  1.7%\n",
      "cycle = 14, R:  1.7%\n",
      "cycle = 15, R:  1.7%\n",
      "cycle = 16, R:  1.7%\n",
      "cycle = 17, R:  1.6%\n",
      "cycle = 18, R:  1.6%\n",
      "cycle = 19, R:  1.6%\n"
     ]
    }
   ],
   "source": [
    "import pydiscamb\n",
    "from cctbx.array_family import flex\n",
    "\n",
    "# Set up wrapper\n",
    "wrapper = pydiscamb.DiscambWrapper(xrs)\n",
    "wrapper.set_indices(f_obs.indices())\n",
    "\n",
    "# Set up target functor\n",
    "def least_squares_d_target_d_f_calc(f_obs, f_calc) -> list[complex]:\n",
    "    o = f_obs.data()\n",
    "    c = f_calc.data()\n",
    "    a = flex.abs(c)\n",
    "    return -2 * (o - a) / a * c / flex.sum(o*o)\n",
    "\n",
    "## Refinement loop\n",
    "for cycle in range(20):\n",
    "    # Compute gradients\n",
    "    f_calc = f_obs.array(data = wrapper.f_calc())\n",
    "    print(f\"{cycle = :2}, R: {f_obs.r1_factor(f_calc) :5.1%}\")\n",
    "    d_target_d_f_calc = least_squares_d_target_d_f_calc(f_obs, f_calc)\n",
    "    grads = wrapper.d_target_d_params(list(d_target_d_f_calc))\n",
    "\n",
    "    # Update structure\n",
    "    for grad, scatterer in zip(grads, xrs.scatterers()):\n",
    "        scatterer.site = (\n",
    "            scatterer.site[0] - 0.1 * grad.site_derivatives[0],\n",
    "            scatterer.site[1] - 0.1 * grad.site_derivatives[1],\n",
    "            scatterer.site[2] - 0.1 * grad.site_derivatives[2],\n",
    "        )\n",
    "    wrapper.update_structure(xrs)\n"
   ]
  }
 ],
 "metadata": {
  "kernelspec": {
   "display_name": "phenix-2.0-5730",
   "language": "python",
   "name": "python3"
  },
  "language_info": {
   "codemirror_mode": {
    "name": "ipython",
    "version": 3
   },
   "file_extension": ".py",
   "mimetype": "text/x-python",
   "name": "python",
   "nbconvert_exporter": "python",
   "pygments_lexer": "ipython3",
   "version": "3.9.23"
  }
 },
 "nbformat": 4,
 "nbformat_minor": 5
}
